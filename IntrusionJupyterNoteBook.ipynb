{
 "cells": [
  {
   "cell_type": "markdown",
   "id": "a29ab508",
   "metadata": {},
   "source": [
    "## Model Training"
   ]
  },
  {
   "cell_type": "code",
   "execution_count": 58,
   "id": "d0bc3d3f",
   "metadata": {},
   "outputs": [
    {
     "name": "stdout",
     "output_type": "stream",
     "text": [
      "Accuracy: 0.90\n",
      "Precision: 0.00\n",
      "Recall: 0.00\n",
      "Counter({0: 630, 1: 70})\n"
     ]
    },
    {
     "name": "stderr",
     "output_type": "stream",
     "text": [
      "C:\\Users\\joe-orion\\anaconda3\\Lib\\site-packages\\sklearn\\metrics\\_classification.py:1469: UndefinedMetricWarning: Precision is ill-defined and being set to 0.0 due to no predicted samples. Use `zero_division` parameter to control this behavior.\n",
      "  _warn_prf(average, modifier, msg_start, len(result))\n"
     ]
    }
   ],
   "source": [
    "from sklearn.model_selection import train_test_split\n",
    "from sklearn.preprocessing import StandardScaler\n",
    "from sklearn.linear_model import LogisticRegression\n",
    "from sklearn.metrics import accuracy_score, precision_score, recall_score\n",
    "import pandas as pd\n",
    "\n",
    "# Load the dataset\n",
    "data = pd.read_csv('bluetooth_data.csv')\n",
    "\n",
    "# Split the data into features and labels\n",
    "X = data.drop('label', axis=1)\n",
    "y = data['label']\n",
    "\n",
    "# Split into training and testing sets\n",
    "X_train, X_test, y_train, y_test = train_test_split(X, y, test_size=0.3, random_state=42)\n",
    "\n",
    "# Standardize the features\n",
    "scaler = StandardScaler()\n",
    "X_train_scaled = scaler.fit_transform(X_train)\n",
    "X_test_scaled = scaler.transform(X_test)\n",
    "\n",
    "# Train a Logistic Regression model\n",
    "model = LogisticRegression(random_state=42)\n",
    "model.fit(X_train_scaled, y_train)\n",
    "\n",
    "# Evaluate the model\n",
    "y_pred = model.predict(X_test_scaled)\n",
    "accuracy = accuracy_score(y_test, y_pred)\n",
    "precision = precision_score(y_test, y_pred)\n",
    "recall = recall_score(y_test, y_pred)\n",
    "\n",
    "print(f'Accuracy: {accuracy:.2f}')\n",
    "print(f'Precision: {precision:.2f}')\n",
    "print(f'Recall: {recall:.2f}')\n",
    "\n",
    "from collections import Counter\n",
    "print(Counter(y_train))\n"
   ]
  },
  {
   "cell_type": "code",
   "execution_count": 59,
   "id": "35627ea9",
   "metadata": {},
   "outputs": [
    {
     "name": "stdout",
     "output_type": "stream",
     "text": [
      "              precision    recall  f1-score   support\n",
      "\n",
      "           0       0.00      0.00      0.00       269\n",
      "           1       0.10      1.00      0.19        31\n",
      "\n",
      "    accuracy                           0.10       300\n",
      "   macro avg       0.05      0.50      0.09       300\n",
      "weighted avg       0.01      0.10      0.02       300\n",
      "\n"
     ]
    },
    {
     "name": "stderr",
     "output_type": "stream",
     "text": [
      "C:\\Users\\joe-orion\\anaconda3\\Lib\\site-packages\\sklearn\\metrics\\_classification.py:1469: UndefinedMetricWarning: Precision and F-score are ill-defined and being set to 0.0 in labels with no predicted samples. Use `zero_division` parameter to control this behavior.\n",
      "  _warn_prf(average, modifier, msg_start, len(result))\n",
      "C:\\Users\\joe-orion\\anaconda3\\Lib\\site-packages\\sklearn\\metrics\\_classification.py:1469: UndefinedMetricWarning: Precision and F-score are ill-defined and being set to 0.0 in labels with no predicted samples. Use `zero_division` parameter to control this behavior.\n",
      "  _warn_prf(average, modifier, msg_start, len(result))\n",
      "C:\\Users\\joe-orion\\anaconda3\\Lib\\site-packages\\sklearn\\metrics\\_classification.py:1469: UndefinedMetricWarning: Precision and F-score are ill-defined and being set to 0.0 in labels with no predicted samples. Use `zero_division` parameter to control this behavior.\n",
      "  _warn_prf(average, modifier, msg_start, len(result))\n"
     ]
    }
   ],
   "source": [
    "from sklearn.linear_model import LogisticRegression\n",
    "from sklearn.model_selection import train_test_split\n",
    "from sklearn.preprocessing import StandardScaler\n",
    "from sklearn.metrics import classification_report\n",
    "\n",
    "# Assuming X and y are your features and labels\n",
    "X_train, X_test, y_train, y_test = train_test_split(X, y, test_size=0.3, random_state=42)\n",
    "\n",
    "scaler = StandardScaler()\n",
    "X_train = scaler.fit_transform(X_train)\n",
    "X_test = scaler.transform(X_test)\n",
    "\n",
    "# Adjust class weights\n",
    "model = LogisticRegression(class_weight='balanced')\n",
    "model.fit(X_train, y_train)\n",
    "\n",
    "# Predict probabilities\n",
    "y_prob = model.predict_proba(X_test)[:, 1]\n",
    "\n",
    "# Adjust threshold for predictions\n",
    "threshold = 0.3\n",
    "y_pred = (y_prob >= threshold).astype(int)\n",
    "\n",
    "# Evaluate predictions\n",
    "print(classification_report(y_test, y_pred))\n"
   ]
  },
  {
   "cell_type": "code",
   "execution_count": 60,
   "id": "3b6e7397",
   "metadata": {},
   "outputs": [
    {
     "name": "stdout",
     "output_type": "stream",
     "text": [
      "Counter({0: 630, 1: 70})\n",
      "Counter({0: 153, 1: 147})\n"
     ]
    }
   ],
   "source": [
    "# Verify and Balance Dataset\n",
    "from collections import Counter\n",
    "print(Counter(y_train))\n",
    "\n",
    "# Use Class Weight\n",
    "from sklearn.linear_model import LogisticRegression\n",
    "model = LogisticRegression(class_weight='balanced')\n",
    "model.fit(X_train, y_train)\n",
    "\n",
    "#  Evaluate Predictions\n",
    "y_pred = model.predict(X_test)\n",
    "print(Counter(y_pred))\n",
    "\n",
    "# y_prob = model.predict_proba(X_test)[:, 1]\n",
    "y_prob = model.predict_proba(X_test)[:, 1]\n",
    "threshold = 0.3  # Example threshold\n",
    "y_pred = (y_prob >= threshold).astype(int)\n"
   ]
  },
  {
   "cell_type": "markdown",
   "id": "8a6886d0",
   "metadata": {},
   "source": [
    "## Real-time Detection Script"
   ]
  },
  {
   "cell_type": "code",
   "execution_count": 62,
   "id": "75df966a",
   "metadata": {},
   "outputs": [
    {
     "name": "stdout",
     "output_type": "stream",
     "text": [
      "Data: {'connection_duration': 3.777532988321405, 'signal_strength': -41.89659226220114, 'data_transfer_rate': 13.648043667244565, 'time_of_day': 3.797132557091862} => Status: Intrusion Detected!\n",
      "Data: {'connection_duration': 5.818769560495839, 'signal_strength': -54.54475493647158, 'data_transfer_rate': 0.6905012247192301, 'time_of_day': 14.556207449659553} => Status: Normal Connection\n",
      "Data: {'connection_duration': 1.9590595784546097, 'signal_strength': -60.85230948193981, 'data_transfer_rate': 1.2608712523973897, 'time_of_day': 1.2941747658297906} => Status: Intrusion Detected!\n",
      "Data: {'connection_duration': 6.615103482792754, 'signal_strength': -67.51685724606526, 'data_transfer_rate': 3.0314185906127116, 'time_of_day': 8.199186662451606} => Status: Intrusion Detected!\n",
      "Data: {'connection_duration': 9.139373261205384, 'signal_strength': -68.07906237197281, 'data_transfer_rate': 10.806344367466815, 'time_of_day': 13.210376982377912} => Status: Intrusion Detected!\n",
      "Data: {'connection_duration': 22.706083920784916, 'signal_strength': -65.6429269500842, 'data_transfer_rate': 1.4529006906392676, 'time_of_day': 3.8235389668080835} => Status: Intrusion Detected!\n",
      "Data: {'connection_duration': 2.847810975420199, 'signal_strength': -32.13553224343484, 'data_transfer_rate': 0.20103230693491544, 'time_of_day': 6.690894937283473} => Status: Normal Connection\n",
      "Data: {'connection_duration': 25.692786774516442, 'signal_strength': -47.10194661223554, 'data_transfer_rate': 0.8599126263904201, 'time_of_day': 4.311661864631215} => Status: Normal Connection\n",
      "Data: {'connection_duration': 5.49646441017011, 'signal_strength': -76.23704015841406, 'data_transfer_rate': 4.0918174761472095, 'time_of_day': 10.233676287142849} => Status: Intrusion Detected!\n",
      "Data: {'connection_duration': 32.89843909825069, 'signal_strength': -54.765354284836775, 'data_transfer_rate': 0.4606759621756522, 'time_of_day': 6.948158558923987} => Status: Intrusion Detected!\n"
     ]
    }
   ],
   "source": [
    "import time\n",
    "import numpy as np\n",
    "\n",
    "def simulate_real_time_data(num_samples=10):\n",
    "    for _ in range(num_samples):\n",
    "        sample = {\n",
    "            'connection_duration': np.random.exponential(scale=10),\n",
    "            'signal_strength': np.random.normal(loc=-50, scale=10),\n",
    "            'data_transfer_rate': np.random.exponential(scale=5),\n",
    "            'time_of_day': np.random.uniform(low=0, high=24)\n",
    "        }\n",
    "        yield sample\n",
    "        time.sleep(1)  # Simulate real-time data stream\n",
    "\n",
    "def classify_connection(model, scaler, sample):\n",
    "    sample_df = pd.DataFrame([sample])\n",
    "    sample_scaled = scaler.transform(sample_df)\n",
    "    prediction = model.predict(sample_scaled)[0]\n",
    "    return prediction\n",
    "\n",
    "# Simulate real-time data and classify\n",
    "for sample in simulate_real_time_data():\n",
    "    prediction = classify_connection(model, scaler, sample)\n",
    "    status = \"Intrusion Detected!\" if prediction == 1 else \"Normal Connection\"\n",
    "    print(f\"Data: {sample} => Status: {status}\")"
   ]
  },
  {
   "cell_type": "markdown",
   "id": "4e6c455d",
   "metadata": {},
   "source": [
    "## Basic UI for Visualization\n",
    "### Command-line Interface"
   ]
  },
  {
   "cell_type": "code",
   "execution_count": null,
   "id": "1d59e78a",
   "metadata": {},
   "outputs": [],
   "source": [
    "import sys\n",
    "import matplotlib.pyplot as plt\n",
    "\n",
    "# Block an intrusion (simulated)\n",
    "def block_intrusion(sample):\n",
    "    print(f\"Blocking intrusion: {sample}\")\n",
    "\n",
    "def plot_data(data):\n",
    "    plt.figure(figsize=(10, 6))\n",
    "    plt.scatter(data['time_of_day'], data['connection_duration'], c=data['label'], cmap='coolwarm', alpha=0.5)\n",
    "    plt.title('Bluetooth Connections')\n",
    "    plt.xlabel('Time of Day')\n",
    "    plt.ylabel('Connection Duration')\n",
    "    plt.colorbar(label='Label (0: Normal, 1: Intrusion)')\n",
    "    plt.show()\n",
    "\n",
    "def main():\n",
    "    while True:\n",
    "        print(\"1. Display Bluetooth Connections\")\n",
    "        print(\"2. Simulate Real-Time Detection\")\n",
    "        print(\"3. Exit\\n\")\n",
    "        choice = input(\"Enter your choice: \")\n",
    "        \n",
    "        if choice == '1':\n",
    "            data = pd.read_csv('bluetooth_data.csv')\n",
    "            plot_data(data)\n",
    "        elif choice == '2':\n",
    "            for sample in simulate_real_time_data():\n",
    "                prediction = classify_connection(model, scaler, sample)\n",
    "                status = \"Intrusion Detected!\\n\" if prediction == 1 else \"Normal Connection\\n\"\n",
    "                print(f\"Data: {sample} => Status: {status}\\n\")\n",
    "        elif choice == '3':\n",
    "            print(\"Exiting...\\n\")\n",
    "            sys.exit()\n",
    "        else:\n",
    "            print(\"Invalid choice. Please try again.\")\n",
    "\n",
    "if __name__ == \"__main__\":\n",
    "    main()\n"
   ]
  },
  {
   "cell_type": "markdown",
   "id": "3f7c8dd5",
   "metadata": {},
   "source": [
    "## Testing and Refinement"
   ]
  },
  {
   "cell_type": "code",
   "execution_count": 52,
   "id": "ac337083",
   "metadata": {},
   "outputs": [
    {
     "name": "stdout",
     "output_type": "stream",
     "text": [
      "Data: {'connection_duration': 5, 'signal_strength': -60, 'data_transfer_rate': 3, 'time_of_day': 10} => Status: Intrusion Detected!\n",
      "Data: {'connection_duration': 20, 'signal_strength': -40, 'data_transfer_rate': 10, 'time_of_day': 22} => Status: Normal Connection\n",
      "Data: {'connection_duration': 7, 'signal_strength': -55, 'data_transfer_rate': 0, 'time_of_day': 15} => Status: Normal Connection\n",
      "Data: {'connection_duration': 30, 'signal_strength': 30, 'data_transfer_rate': 15, 'time_of_day': 3} => Status: Normal Connection\n"
     ]
    }
   ],
   "source": [
    "# Test scenarios\n",
    "test_samples = [\n",
    "    {'connection_duration': 5, 'signal_strength': -60, 'data_transfer_rate': 3, 'time_of_day': 10},\n",
    "    {'connection_duration': 20, 'signal_strength': -40, 'data_transfer_rate': 10, 'time_of_day': 22},\n",
    "    {'connection_duration': 7, 'signal_strength': -55, 'data_transfer_rate': 0, 'time_of_day': 15},\n",
    "    {'connection_duration': 30, 'signal_strength': 30, 'data_transfer_rate': 15, 'time_of_day': 3}\n",
    "]\n",
    "\n",
    "for sample in test_samples:\n",
    "    prediction = classify_connection(model, scaler, sample)\n",
    "    status = \"Intrusion Detected!\" if prediction == 1 else \"Normal Connection\"\n",
    "    print(f\"Data: {sample} => Status: {status}\")\n"
   ]
  },
  {
   "cell_type": "code",
   "execution_count": 45,
   "id": "ccb1f23d",
   "metadata": {},
   "outputs": [
    {
     "data": {
      "text/html": [
       "<div>\n",
       "<style scoped>\n",
       "    .dataframe tbody tr th:only-of-type {\n",
       "        vertical-align: middle;\n",
       "    }\n",
       "\n",
       "    .dataframe tbody tr th {\n",
       "        vertical-align: top;\n",
       "    }\n",
       "\n",
       "    .dataframe thead th {\n",
       "        text-align: right;\n",
       "    }\n",
       "</style>\n",
       "<table border=\"1\" class=\"dataframe\">\n",
       "  <thead>\n",
       "    <tr style=\"text-align: right;\">\n",
       "      <th></th>\n",
       "      <th>connection_duration</th>\n",
       "      <th>signal_strength</th>\n",
       "      <th>data_transfer_rate</th>\n",
       "      <th>time_of_day</th>\n",
       "      <th>label</th>\n",
       "    </tr>\n",
       "  </thead>\n",
       "  <tbody>\n",
       "    <tr>\n",
       "      <th>0</th>\n",
       "      <td>4.692681</td>\n",
       "      <td>-48.222990</td>\n",
       "      <td>17.794994</td>\n",
       "      <td>9.307826</td>\n",
       "      <td>0</td>\n",
       "    </tr>\n",
       "    <tr>\n",
       "      <th>1</th>\n",
       "      <td>30.101214</td>\n",
       "      <td>-63.353444</td>\n",
       "      <td>2.012450</td>\n",
       "      <td>19.284904</td>\n",
       "      <td>0</td>\n",
       "    </tr>\n",
       "    <tr>\n",
       "      <th>2</th>\n",
       "      <td>13.167457</td>\n",
       "      <td>-46.198021</td>\n",
       "      <td>3.289297</td>\n",
       "      <td>21.642577</td>\n",
       "      <td>0</td>\n",
       "    </tr>\n",
       "    <tr>\n",
       "      <th>3</th>\n",
       "      <td>9.129426</td>\n",
       "      <td>-43.894143</td>\n",
       "      <td>1.091388</td>\n",
       "      <td>4.883346</td>\n",
       "      <td>0</td>\n",
       "    </tr>\n",
       "    <tr>\n",
       "      <th>4</th>\n",
       "      <td>1.696249</td>\n",
       "      <td>-44.402096</td>\n",
       "      <td>4.718054</td>\n",
       "      <td>1.607367</td>\n",
       "      <td>0</td>\n",
       "    </tr>\n",
       "  </tbody>\n",
       "</table>\n",
       "</div>"
      ],
      "text/plain": [
       "   connection_duration  signal_strength  data_transfer_rate  time_of_day  \\\n",
       "0             4.692681       -48.222990           17.794994     9.307826   \n",
       "1            30.101214       -63.353444            2.012450    19.284904   \n",
       "2            13.167457       -46.198021            3.289297    21.642577   \n",
       "3             9.129426       -43.894143            1.091388     4.883346   \n",
       "4             1.696249       -44.402096            4.718054     1.607367   \n",
       "\n",
       "   label  \n",
       "0      0  \n",
       "1      0  \n",
       "2      0  \n",
       "3      0  \n",
       "4      0  "
      ]
     },
     "execution_count": 45,
     "metadata": {},
     "output_type": "execute_result"
    }
   ],
   "source": [
    "data.head()"
   ]
  },
  {
   "cell_type": "code",
   "execution_count": 46,
   "id": "b57d748d",
   "metadata": {},
   "outputs": [
    {
     "data": {
      "text/html": [
       "<div>\n",
       "<style scoped>\n",
       "    .dataframe tbody tr th:only-of-type {\n",
       "        vertical-align: middle;\n",
       "    }\n",
       "\n",
       "    .dataframe tbody tr th {\n",
       "        vertical-align: top;\n",
       "    }\n",
       "\n",
       "    .dataframe thead th {\n",
       "        text-align: right;\n",
       "    }\n",
       "</style>\n",
       "<table border=\"1\" class=\"dataframe\">\n",
       "  <thead>\n",
       "    <tr style=\"text-align: right;\">\n",
       "      <th></th>\n",
       "      <th>connection_duration</th>\n",
       "      <th>signal_strength</th>\n",
       "      <th>data_transfer_rate</th>\n",
       "      <th>time_of_day</th>\n",
       "      <th>label</th>\n",
       "    </tr>\n",
       "  </thead>\n",
       "  <tbody>\n",
       "    <tr>\n",
       "      <th>995</th>\n",
       "      <td>0.960507</td>\n",
       "      <td>-63.200225</td>\n",
       "      <td>1.013288</td>\n",
       "      <td>17.624776</td>\n",
       "      <td>0</td>\n",
       "    </tr>\n",
       "    <tr>\n",
       "      <th>996</th>\n",
       "      <td>24.926998</td>\n",
       "      <td>-56.117691</td>\n",
       "      <td>9.654212</td>\n",
       "      <td>5.011942</td>\n",
       "      <td>0</td>\n",
       "    </tr>\n",
       "    <tr>\n",
       "      <th>997</th>\n",
       "      <td>1.471304</td>\n",
       "      <td>-50.370368</td>\n",
       "      <td>10.709133</td>\n",
       "      <td>1.405567</td>\n",
       "      <td>0</td>\n",
       "    </tr>\n",
       "    <tr>\n",
       "      <th>998</th>\n",
       "      <td>30.004907</td>\n",
       "      <td>-54.293022</td>\n",
       "      <td>3.139698</td>\n",
       "      <td>13.256787</td>\n",
       "      <td>0</td>\n",
       "    </tr>\n",
       "    <tr>\n",
       "      <th>999</th>\n",
       "      <td>5.906010</td>\n",
       "      <td>-56.924210</td>\n",
       "      <td>0.393591</td>\n",
       "      <td>14.285514</td>\n",
       "      <td>0</td>\n",
       "    </tr>\n",
       "  </tbody>\n",
       "</table>\n",
       "</div>"
      ],
      "text/plain": [
       "     connection_duration  signal_strength  data_transfer_rate  time_of_day  \\\n",
       "995             0.960507       -63.200225            1.013288    17.624776   \n",
       "996            24.926998       -56.117691            9.654212     5.011942   \n",
       "997             1.471304       -50.370368           10.709133     1.405567   \n",
       "998            30.004907       -54.293022            3.139698    13.256787   \n",
       "999             5.906010       -56.924210            0.393591    14.285514   \n",
       "\n",
       "     label  \n",
       "995      0  \n",
       "996      0  \n",
       "997      0  \n",
       "998      0  \n",
       "999      0  "
      ]
     },
     "execution_count": 46,
     "metadata": {},
     "output_type": "execute_result"
    }
   ],
   "source": [
    "data.tail()"
   ]
  },
  {
   "cell_type": "markdown",
   "id": "7450bedf",
   "metadata": {},
   "source": [
    "## More test samples"
   ]
  },
  {
   "cell_type": "code",
   "execution_count": 57,
   "id": "943b1591",
   "metadata": {},
   "outputs": [
    {
     "name": "stdout",
     "output_type": "stream",
     "text": [
      "Data: {'connection_duration': 5, 'signal_strength': -60, 'data_transfer_rate': 3, 'time_of_day': 10} => Status: Intrusion Detected!\n",
      "Blocking intrusion: {'connection_duration': 5, 'signal_strength': -60, 'data_transfer_rate': 3, 'time_of_day': 10}\n",
      "Data: {'connection_duration': 20, 'signal_strength': -40, 'data_transfer_rate': 10, 'time_of_day': 22} => Status: Normal Connection\n",
      "Data: {'connection_duration': 7, 'signal_strength': -55, 'data_transfer_rate': 2, 'time_of_day': 15} => Status: Intrusion Detected!\n",
      "Blocking intrusion: {'connection_duration': 7, 'signal_strength': -55, 'data_transfer_rate': 2, 'time_of_day': 15}\n",
      "Data: {'connection_duration': 30, 'signal_strength': -30, 'data_transfer_rate': 15, 'time_of_day': 10} => Status: Normal Connection\n",
      "Data: {'connection_duration': 16, 'signal_strength': -25, 'data_transfer_rate': 10.345420566187718, 'time_of_day': 12} => Status: Normal Connection\n"
     ]
    }
   ],
   "source": [
    "# Define a potentially suspicious test sample\n",
    "intrusion_test_sample = {'connection_duration': 16, 'signal_strength': -25, 'data_transfer_rate':10.345420566187718 , 'time_of_day': 12}\n",
    "\n",
    "# Block an intrusion (simulated)\n",
    "def block_intrusion(sample):\n",
    "    print(f\"Blocking intrusion: {sample}\")\n",
    "    \n",
    "# Test samples including the suspicious one\n",
    "test_samples = [\n",
    "    {'connection_duration': 5, 'signal_strength': -60, 'data_transfer_rate': 3, 'time_of_day': 10},\n",
    "    {'connection_duration': 20, 'signal_strength': -40, 'data_transfer_rate': 10, 'time_of_day': 22},\n",
    "    {'connection_duration': 7, 'signal_strength': -55, 'data_transfer_rate': 2, 'time_of_day': 15},\n",
    "    {'connection_duration': 30, 'signal_strength': -30, 'data_transfer_rate': 15, 'time_of_day': 10},\n",
    "    intrusion_test_sample  # Adding the suspicious sample to the test list\n",
    "]\n",
    "\n",
    "for sample in test_samples:\n",
    "                prediction = classify_connection(model, scaler, sample)\n",
    "                status = \"Intrusion Detected!\" if prediction == 1 else \"Normal Connection\"\n",
    "                print(f\"Data: {sample} => Status: {status}\")\n",
    "                if prediction == 1:\n",
    "                    block_intrusion(sample)\n"
   ]
  },
  {
   "cell_type": "code",
   "execution_count": null,
   "id": "f97fe944",
   "metadata": {},
   "outputs": [],
   "source": []
  }
 ],
 "metadata": {
  "kernelspec": {
   "display_name": "Python 3 (ipykernel)",
   "language": "python",
   "name": "python3"
  },
  "language_info": {
   "codemirror_mode": {
    "name": "ipython",
    "version": 3
   },
   "file_extension": ".py",
   "mimetype": "text/x-python",
   "name": "python",
   "nbconvert_exporter": "python",
   "pygments_lexer": "ipython3",
   "version": "3.11.5"
  }
 },
 "nbformat": 4,
 "nbformat_minor": 5
}
